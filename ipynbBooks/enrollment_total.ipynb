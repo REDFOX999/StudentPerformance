{
 "cells": [
  {
   "cell_type": "code",
   "execution_count": 1,
   "metadata": {
    "collapsed": true
   },
   "outputs": [],
   "source": [
    "import pandas as pd"
   ]
  },
  {
   "cell_type": "code",
   "execution_count": 2,
   "metadata": {
    "collapsed": true
   },
   "outputs": [],
   "source": [
    "import numpy as np"
   ]
  },
  {
   "cell_type": "code",
   "execution_count": 3,
   "metadata": {
    "collapsed": true
   },
   "outputs": [],
   "source": [
    "import os"
   ]
  },
  {
   "cell_type": "code",
   "execution_count": 4,
   "metadata": {
    "collapsed": true
   },
   "outputs": [],
   "source": [
    "cwd = os.getcwd()"
   ]
  },
  {
   "cell_type": "code",
   "execution_count": 5,
   "metadata": {
    "collapsed": false
   },
   "outputs": [
    {
     "data": {
      "text/plain": [
       "'/Users/shantanupatil/Untitled Folder'"
      ]
     },
     "execution_count": 5,
     "metadata": {},
     "output_type": "execute_result"
    }
   ],
   "source": [
    "cwd"
   ]
  },
  {
   "cell_type": "code",
   "execution_count": 10,
   "metadata": {
    "collapsed": true
   },
   "outputs": [],
   "source": [
    "os.chdir('/Users/shantanupatil/Desktop/Dataset/ncert-excel/enrollment/enrollment_flash_stats_total/')"
   ]
  },
  {
   "cell_type": "code",
   "execution_count": 11,
   "metadata": {
    "collapsed": false
   },
   "outputs": [
    {
     "data": {
      "text/plain": [
       "['FS3__Rural.pdf',\n",
       " 'FS3__Rural.xlsx',\n",
       " 'FS48__Total.pdf',\n",
       " 'FS48__Total.xlsx',\n",
       " 'FS51_Primary_Total.pdf',\n",
       " 'FS51_Primary_Total.xlsx',\n",
       " 'FS54_Upper_Primary_Total.pdf',\n",
       " 'FS54_Upper_Primary_Total.xlsx',\n",
       " 'FS57_Secondary_Total.pdf',\n",
       " 'FS57_Secondary_Total.xlsx',\n",
       " 'FS60.pdf',\n",
       " 'FS60.xlsx',\n",
       " 'FS61__Rural.pdf',\n",
       " 'FS61__Rural.xlsx',\n",
       " 'FS64__Total.pdf',\n",
       " 'FS64__Total.xlsx']"
      ]
     },
     "execution_count": 11,
     "metadata": {},
     "output_type": "execute_result"
    }
   ],
   "source": [
    "os.listdir('.')"
   ]
  },
  {
   "cell_type": "code",
   "execution_count": 13,
   "metadata": {
    "collapsed": false
   },
   "outputs": [],
   "source": [
    "file = 'FS3__Rural.xlsx'"
   ]
  },
  {
   "cell_type": "code",
   "execution_count": 14,
   "metadata": {
    "collapsed": true
   },
   "outputs": [],
   "source": [
    "xl = pd.ExcelFile(file)"
   ]
  },
  {
   "cell_type": "code",
   "execution_count": 17,
   "metadata": {
    "collapsed": false
   },
   "outputs": [
    {
     "name": "stdout",
     "output_type": "stream",
     "text": [
      "['page 1']\n"
     ]
    }
   ],
   "source": [
    "print(xl.sheet_names)"
   ]
  },
  {
   "cell_type": "code",
   "execution_count": 18,
   "metadata": {
    "collapsed": true
   },
   "outputs": [],
   "source": [
    "df = xl.parse('page 1')"
   ]
  },
  {
   "cell_type": "code",
   "execution_count": 20,
   "metadata": {
    "collapsed": false
   },
   "outputs": [
    {
     "data": {
      "text/html": [
       "<div>\n",
       "<table border=\"1\" class=\"dataframe\">\n",
       "  <thead>\n",
       "    <tr style=\"text-align: right;\">\n",
       "      <th></th>\n",
       "      <th>1</th>\n",
       "      <th>2</th>\n",
       "      <th>3</th>\n",
       "      <th>4</th>\n",
       "      <th>5</th>\n",
       "      <th>6</th>\n",
       "      <th>7</th>\n",
       "      <th>8</th>\n",
       "      <th>9</th>\n",
       "      <th>10</th>\n",
       "      <th>11</th>\n",
       "    </tr>\n",
       "  </thead>\n",
       "  <tbody>\n",
       "    <tr>\n",
       "      <th>0</th>\n",
       "      <td>1\\n\\n\\n2</td>\n",
       "      <td>Andaman  Nicobar\\nIslands\\n\\nAndhra Pradesh</td>\n",
       "      <td>1\\n\\n\\n7,985</td>\n",
       "      <td>3\\n\\n\\n2,496</td>\n",
       "      <td>200.00\\n\\n\\n-68.74</td>\n",
       "      <td>48\\n\\n\\n840,781</td>\n",
       "      <td>43\\n\\n\\n188,809</td>\n",
       "      <td>-10.42\\n\\n\\n-77.54</td>\n",
       "      <td>0\\n\\n\\n179,589</td>\n",
       "      <td>0\\n\\n\\n36,075</td>\n",
       "      <td>0.00\\n\\n\\n-79.91</td>\n",
       "    </tr>\n",
       "    <tr>\n",
       "      <th>1</th>\n",
       "      <td>3</td>\n",
       "      <td>Arunachal Pradesh</td>\n",
       "      <td>0</td>\n",
       "      <td>67</td>\n",
       "      <td>0.00</td>\n",
       "      <td>1,328</td>\n",
       "      <td>6,349</td>\n",
       "      <td>378.09</td>\n",
       "      <td>222</td>\n",
       "      <td>2,384</td>\n",
       "      <td>973.87</td>\n",
       "    </tr>\n",
       "    <tr>\n",
       "      <th>2</th>\n",
       "      <td>4</td>\n",
       "      <td>Assam</td>\n",
       "      <td>9,130</td>\n",
       "      <td>5,863</td>\n",
       "      <td>-35.78</td>\n",
       "      <td>471,968</td>\n",
       "      <td>359,015</td>\n",
       "      <td>-23.93</td>\n",
       "      <td>230,868</td>\n",
       "      <td>135,071</td>\n",
       "      <td>-41.49</td>\n",
       "    </tr>\n",
       "    <tr>\n",
       "      <th>3</th>\n",
       "      <td>5</td>\n",
       "      <td>Bihar</td>\n",
       "      <td>2,461</td>\n",
       "      <td>4,487</td>\n",
       "      <td>82.32</td>\n",
       "      <td>503,919</td>\n",
       "      <td>241,762</td>\n",
       "      <td>-52.02</td>\n",
       "      <td>179,777</td>\n",
       "      <td>110,884</td>\n",
       "      <td>-38.32</td>\n",
       "    </tr>\n",
       "    <tr>\n",
       "      <th>4</th>\n",
       "      <td>6</td>\n",
       "      <td>Chandigarh</td>\n",
       "      <td>105</td>\n",
       "      <td>37</td>\n",
       "      <td>-64.76</td>\n",
       "      <td>19,994</td>\n",
       "      <td>3,665</td>\n",
       "      <td>-81.67</td>\n",
       "      <td>6,182</td>\n",
       "      <td>813</td>\n",
       "      <td>-86.85</td>\n",
       "    </tr>\n",
       "    <tr>\n",
       "      <th>5</th>\n",
       "      <td>7</td>\n",
       "      <td>Chhattisgarh</td>\n",
       "      <td>131</td>\n",
       "      <td>608</td>\n",
       "      <td>364.12</td>\n",
       "      <td>6,491</td>\n",
       "      <td>8,496</td>\n",
       "      <td>30.89</td>\n",
       "      <td>46</td>\n",
       "      <td>2,653</td>\n",
       "      <td>5667.39</td>\n",
       "    </tr>\n",
       "    <tr>\n",
       "      <th>6</th>\n",
       "      <td>8</td>\n",
       "      <td>Dadra  Nagar Haveli</td>\n",
       "      <td>1</td>\n",
       "      <td>0</td>\n",
       "      <td>-100.00</td>\n",
       "      <td>110</td>\n",
       "      <td>0</td>\n",
       "      <td>-100.00</td>\n",
       "      <td>0</td>\n",
       "      <td>0</td>\n",
       "      <td>0.00</td>\n",
       "    </tr>\n",
       "    <tr>\n",
       "      <th>7</th>\n",
       "      <td>9</td>\n",
       "      <td>Daman  Diu</td>\n",
       "      <td>0</td>\n",
       "      <td>0</td>\n",
       "      <td>0.00</td>\n",
       "      <td>0</td>\n",
       "      <td>60</td>\n",
       "      <td>0.00</td>\n",
       "      <td>0</td>\n",
       "      <td>75</td>\n",
       "      <td>0.00</td>\n",
       "    </tr>\n",
       "    <tr>\n",
       "      <th>8</th>\n",
       "      <td>10</td>\n",
       "      <td>Delhi</td>\n",
       "      <td>44</td>\n",
       "      <td>201</td>\n",
       "      <td>356.82</td>\n",
       "      <td>16,067</td>\n",
       "      <td>6,933</td>\n",
       "      <td>-56.85</td>\n",
       "      <td>1,034</td>\n",
       "      <td>850</td>\n",
       "      <td>-17.79</td>\n",
       "    </tr>\n",
       "    <tr>\n",
       "      <th>9</th>\n",
       "      <td>11</td>\n",
       "      <td>Goa</td>\n",
       "      <td>2</td>\n",
       "      <td>5</td>\n",
       "      <td>150.00</td>\n",
       "      <td>11</td>\n",
       "      <td>150</td>\n",
       "      <td>1263.64</td>\n",
       "      <td>0</td>\n",
       "      <td>38</td>\n",
       "      <td>0.00</td>\n",
       "    </tr>\n",
       "  </tbody>\n",
       "</table>\n",
       "</div>"
      ],
      "text/plain": [
       "          1                                            2             3  \\\n",
       "0  1\\n\\n\\n2  Andaman  Nicobar\\nIslands\\n\\nAndhra Pradesh  1\\n\\n\\n7,985   \n",
       "1         3                            Arunachal Pradesh             0   \n",
       "2         4                                        Assam         9,130   \n",
       "3         5                                        Bihar         2,461   \n",
       "4         6                                   Chandigarh           105   \n",
       "5         7                                 Chhattisgarh           131   \n",
       "6         8                          Dadra  Nagar Haveli             1   \n",
       "7         9                                   Daman  Diu             0   \n",
       "8        10                                        Delhi            44   \n",
       "9        11                                          Goa             2   \n",
       "\n",
       "              4                   5                6                7  \\\n",
       "0  3\\n\\n\\n2,496  200.00\\n\\n\\n-68.74  48\\n\\n\\n840,781  43\\n\\n\\n188,809   \n",
       "1            67                0.00            1,328            6,349   \n",
       "2         5,863              -35.78          471,968          359,015   \n",
       "3         4,487               82.32          503,919          241,762   \n",
       "4            37              -64.76           19,994            3,665   \n",
       "5           608              364.12            6,491            8,496   \n",
       "6             0             -100.00              110                0   \n",
       "7             0                0.00                0               60   \n",
       "8           201              356.82           16,067            6,933   \n",
       "9             5              150.00               11              150   \n",
       "\n",
       "                    8               9             10                11  \n",
       "0  -10.42\\n\\n\\n-77.54  0\\n\\n\\n179,589  0\\n\\n\\n36,075  0.00\\n\\n\\n-79.91  \n",
       "1              378.09             222          2,384            973.87  \n",
       "2              -23.93         230,868        135,071            -41.49  \n",
       "3              -52.02         179,777        110,884            -38.32  \n",
       "4              -81.67           6,182            813            -86.85  \n",
       "5               30.89              46          2,653           5667.39  \n",
       "6             -100.00               0              0              0.00  \n",
       "7                0.00               0             75              0.00  \n",
       "8              -56.85           1,034            850            -17.79  \n",
       "9             1263.64               0             38              0.00  "
      ]
     },
     "execution_count": 20,
     "metadata": {},
     "output_type": "execute_result"
    }
   ],
   "source": [
    "df"
   ]
  },
  {
   "cell_type": "code",
   "execution_count": null,
   "metadata": {
    "collapsed": true
   },
   "outputs": [],
   "source": []
  }
 ],
 "metadata": {
  "kernelspec": {
   "display_name": "Python 3",
   "language": "python",
   "name": "python3"
  },
  "language_info": {
   "codemirror_mode": {
    "name": "ipython",
    "version": 3
   },
   "file_extension": ".py",
   "mimetype": "text/x-python",
   "name": "python",
   "nbconvert_exporter": "python",
   "pygments_lexer": "ipython3",
   "version": "3.6.0"
  }
 },
 "nbformat": 4,
 "nbformat_minor": 2
}
